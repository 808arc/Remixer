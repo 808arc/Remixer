{
 "cells": [
  {
   "cell_type": "code",
   "execution_count": 13,
   "metadata": {},
   "outputs": [
    {
     "name": "stdout",
     "output_type": "stream",
     "text": [
      "Collecting librosa\n",
      "  Using cached librosa-0.10.0.post2-py3-none-any.whl (253 kB)\n",
      "Requirement already satisfied: pandas in /opt/homebrew/lib/python3.11/site-packages (from -r r.txt (line 2)) (1.5.3)\n",
      "Requirement already satisfied: billboard.py==7.0.0 in /opt/homebrew/lib/python3.11/site-packages (from -r r.txt (line 3)) (7.0.0)\n",
      "Requirement already satisfied: youtube-search-python in /opt/homebrew/lib/python3.11/site-packages (from -r r.txt (line 4)) (1.6.6)\n",
      "Requirement already satisfied: pytube in /opt/homebrew/lib/python3.11/site-packages (from -r r.txt (line 5)) (12.1.3)\n",
      "Requirement already satisfied: youtube_dl in /opt/homebrew/lib/python3.11/site-packages (from -r r.txt (line 6)) (2021.12.17)\n",
      "Requirement already satisfied: beautifulsoup4>=4.4.1 in /opt/homebrew/lib/python3.11/site-packages (from billboard.py==7.0.0->-r r.txt (line 3)) (4.12.0)\n",
      "Requirement already satisfied: requests>=2.2.1 in /opt/homebrew/lib/python3.11/site-packages (from billboard.py==7.0.0->-r r.txt (line 3)) (2.28.2)\n",
      "Collecting audioread>=2.1.9\n",
      "  Using cached audioread-3.0.0.tar.gz (377 kB)\n",
      "  Preparing metadata (setup.py) ... \u001b[?25ldone\n",
      "\u001b[?25hRequirement already satisfied: numpy!=1.22.0,!=1.22.1,!=1.22.2,>=1.20.3 in /opt/homebrew/lib/python3.11/site-packages (from librosa->-r r.txt (line 1)) (1.24.2)\n",
      "Collecting scipy>=1.2.0\n",
      "  Using cached scipy-1.10.1-cp311-cp311-macosx_12_0_arm64.whl (28.7 MB)\n",
      "Collecting scikit-learn>=0.20.0\n",
      "  Using cached scikit_learn-1.2.2-cp311-cp311-macosx_12_0_arm64.whl (8.4 MB)\n",
      "Collecting joblib>=0.14\n",
      "  Using cached joblib-1.2.0-py3-none-any.whl (297 kB)\n",
      "Requirement already satisfied: decorator>=4.3.0 in /Users/arc/Library/Python/3.11/lib/python/site-packages (from librosa->-r r.txt (line 1)) (5.1.1)\n",
      "Collecting numba>=0.51.0\n",
      "  Using cached numba-0.56.4.tar.gz (2.4 MB)\n",
      "  Preparing metadata (setup.py) ... \u001b[?25lerror\n",
      "  \u001b[1;31merror\u001b[0m: \u001b[1msubprocess-exited-with-error\u001b[0m\n",
      "  \n",
      "  \u001b[31m×\u001b[0m \u001b[32mpython setup.py egg_info\u001b[0m did not run successfully.\n",
      "  \u001b[31m│\u001b[0m exit code: \u001b[1;36m1\u001b[0m\n",
      "  \u001b[31m╰─>\u001b[0m \u001b[31m[8 lines of output]\u001b[0m\n",
      "  \u001b[31m   \u001b[0m Traceback (most recent call last):\n",
      "  \u001b[31m   \u001b[0m   File \"<string>\", line 2, in <module>\n",
      "  \u001b[31m   \u001b[0m   File \"<pip-setuptools-caller>\", line 34, in <module>\n",
      "  \u001b[31m   \u001b[0m   File \"/private/var/folders/gr/zmr_zbx15bqfcw7lbkw2lmgh0000gn/T/pip-install-vqoh3tco/numba_dcb8c2bab7f24c3c937180aee948af3e/setup.py\", line 51, in <module>\n",
      "  \u001b[31m   \u001b[0m     _guard_py_ver()\n",
      "  \u001b[31m   \u001b[0m   File \"/private/var/folders/gr/zmr_zbx15bqfcw7lbkw2lmgh0000gn/T/pip-install-vqoh3tco/numba_dcb8c2bab7f24c3c937180aee948af3e/setup.py\", line 48, in _guard_py_ver\n",
      "  \u001b[31m   \u001b[0m     raise RuntimeError(msg.format(cur_py, min_py, max_py))\n",
      "  \u001b[31m   \u001b[0m RuntimeError: Cannot install on Python version 3.11.2; only versions >=3.7,<3.11 are supported.\n",
      "  \u001b[31m   \u001b[0m \u001b[31m[end of output]\u001b[0m\n",
      "  \n",
      "  \u001b[1;35mnote\u001b[0m: This error originates from a subprocess, and is likely not a problem with pip.\n",
      "\u001b[?25h\u001b[1;31merror\u001b[0m: \u001b[1mmetadata-generation-failed\u001b[0m\n",
      "\n",
      "\u001b[31m×\u001b[0m Encountered error while generating package metadata.\n",
      "\u001b[31m╰─>\u001b[0m See above for output.\n",
      "\n",
      "\u001b[1;35mnote\u001b[0m: This is an issue with the package mentioned above, not pip.\n",
      "\u001b[1;36mhint\u001b[0m: See above for details.\n",
      "Note: you may need to restart the kernel to use updated packages.\n"
     ]
    }
   ],
   "source": [
    "%pip install -r r.txt"
   ]
  },
  {
   "cell_type": "code",
   "execution_count": 3,
   "metadata": {},
   "outputs": [
    {
     "name": "stdout",
     "output_type": "stream",
     "text": [
      "w new values: ['I Gotta Feeling by The Black Eyed Peasx', 'Boom Boom Pow by The Black Eyed Peasx', 'Best I Ever Had by Drakex', 'Knock You Down by Keri Hilson Featuring Kanye West & Ne-Yox', 'LoveGame by Lady Gagax', 'I Know You Want Me (Calle Ocho) by Pitbullx', 'Fire Burning by Sean Kingstonx', 'Birthday Sex by Jeremihx', 'New Divide by Linkin Parkx', 'Waking Up In Vegas by Katy Perryx', 'You Belong With Me by Taylor Swiftx', \"Don't Trust Me by 3OH!3x\", 'Second Chance by Shinedownx', 'Halo by Beyoncex', 'Poker Face by Lady Gagax', 'The Climb by Miley Cyrusx', 'Every Girl by Young Moneyx', \"Please Don't Leave Me by P!nkx\", 'If Today Was Your Last Day by Nickelbackx', 'Use Somebody by Kings Of Leonx', \"Day 'N' Nite by Kid Cudix\", 'Goodbye by Kristinia DeBargex', 'Blame It by Jamie Foxx Featuring T-Painx', 'D.O.A. (Death Of Auto-Tune) by JAY-Zx', 'Out Last Night by Kenny Chesneyx', 'Whatever It Is by Zac Brown Bandx', 'I Do Not Hook Up by Kelly Clarksonx', 'Right Round by Flo Ridax', 'You Found Me by The Frayx', 'Battlefield by Jordin Sparksx', \"I'm Yours by Jason Mrazx\", 'Her Diamonds by Rob Thomasx', 'Love Story by Taylor Swiftx', 'People Are Crazy by Billy Curringtonx', 'I Run To You by Lady Antebellumx', 'Sideways by Dierks Bentleyx', 'Then by Brad Paisleyx', \"You're A Jerk by New Boyzx\", 'No Surprise by Daughtryx', 'Gives You Hell by The All-American Rejectsx', 'Alright by Darius Ruckerx', \"Just Dance by Lady Gaga Featuring Colby O'Donisx\", 'Ego by Beyoncex', 'My Life Would Suck Without You by Kelly Clarksonx', 'Sugar by Flo Rida Featuring Wynterx', 'Best Days Of Your Life by Kellie Picklerx', \"Turn My Swag On by Soulja Boy Tell'emx\", 'Never Say Never by The Frayx', 'Kiss A Girl by Keith Urbanx', \"Kiss Me Thru The Phone by Soulja Boy Tell 'em Featuring Sammiex\", 'Here We Go Again by Demi Lovatox', 'All The Above by Maino Featuring T-Painx', 'Big Green Tractor by Jason Aldeanx', 'Summer Nights by Rascal Flattsx', '21 Guns by Green Dayx', 'Not Meant To Be by Theory Of A Deadmanx', 'Wetter (Calling You Daddy) by Twista Featuring Erika Shevonx', 'Good Girls Go Bad by Cobra Starship Featuring Leighton Meesterx', 'Always Strapped by Birdman Featuring Lil Waynex', 'Know Your Enemy by Green Dayx', 'Boyfriend #2 by Pleasure Px', 'Pretty Wings by Maxwellx', 'I Need A Girl by Trey Songzx', 'If U Seek Amy by Britney Spearsx', 'Hotel Room Service by Pitbullx', 'Wild At Heart by Glorianax', 'Boots On by Randy Houserx', 'It Happens by Sugarlandx', 'Lost You Anyway by Toby Keithx', 'Paranoid by Jonas Brothersx', \"Swag Surfin' by F.L.Y. (Fast Life Yungstaz)x\", 'Ice Cream Paint Job by Dorroughx', 'Come Back To Me by David Cookx', \"Sissy's Song by Alan Jacksonx\", 'Last Chance by Ginuwinex', 'Wanted by Jessie Jamesx', \"Show Me What I'm Looking For by Carolina Liarx\", \"I'm On A Boat by The Lonely Island Featuring T-Painx\", 'Strange by Rebax', \"I'm In Miami Trick by LMFAOx\", 'Take Me On The Floor by The Veronicasx', 'Living For The Night by George Straitx', \"Halle Berry (She's Fine) by Hurricane Chris Featuring SupaSTAARx\", 'Break Up by Mario Featuring Gucci Mane & Sean Garrettx', 'Small Town USA by Justin Moorex', 'Careless Whisper by Seetherx', 'Throw It In The Bag by Fabolous Featuring The-Dreamx', 'One In Every Crowd by Montgomery Gentryx', 'Make Her Say by Kid Cudi Featuring Kanye West & Commonx', 'Love Your Love The Most by Eric Churchx', \"Walkin' On The Moon by The-Dream Featuring Kanye Westx\", 'Funny The Way It Is by Dave Matthews Bandx', 'Trust by Keyshia Cole Duet With Monicax', \"Ain't No Rest For The Wicked by Cage The Elephantx\", 'Sound Of Madness by Shinedownx', 'When Love Takes Over by David Guetta Featuring Kelly Rowlandx', 'Echo by Gorilla Zoex', 'Barefoot And Crazy by Jack Ingramx', \"It's America by Rodney Atkinsx\", 'Beautiful by Eminemx', 'I Gotta Feeling by The Black Eyed Peasx', 'Down by Jay Sean Featuring Lil Waynex', 'Party In The U.S.A. by Miley Cyrusx', 'Use Somebody by Kings Of Leonx', 'You Belong With Me by Taylor Swiftx', 'Run This Town by Jay-Z, Rihanna & Kanye Westx', 'Best I Ever Had by Drakex', 'Knock You Down by Keri Hilson Featuring Kanye West & Ne-Yox', 'Hotel Room Service by Pitbullx', 'Good Girls Go Bad by Cobra Starship Featuring Leighton Meesterx', 'Obsessed by Mariah Careyx', 'She Wolf by Shakirax', 'Whatcha Say by Jason Derulox', 'Battlefield by Jordin Sparksx', 'Break Up by Mario Featuring Gucci Mane & Sean Garrettx', 'Waking Up In Vegas by Katy Perryx', 'Boom Boom Pow by The Black Eyed Peasx', \"Fallin' For You by Colbie Caillatx\", 'Fire Burning by Sean Kingstonx', 'Throw It In The Bag by Fabolous Featuring The-Dreamx', 'Big Green Tractor by Jason Aldeanx', 'No Surprise by Daughtryx', 'I Know You Want Me (Calle Ocho) by Pitbullx', 'LoveGame by Lady Gagax', 'Say Hey (I Love You) by Michael Franti & Spearhead Featuring Cherine Andersonx', 'Love Drunk by Boys Like Girlsx', 'Be On You by Flo Rida Featuring Ne-Yox', 'Ice Cream Paint Job by Dorroughx', '21 Guns by Green Dayx', 'New Divide by Linkin Parkx', \"Please Don't Leave Me by P!nkx\", 'One Time by Justin Bieberx', 'Her Diamonds by Rob Thomasx', 'Pretty Wings by Maxwellx', \"I'm Yours by Jason Mrazx\", 'The Climb by Miley Cyrusx', 'Every Girl by Young Moneyx', 'Never Say Never by The Frayx', 'Summer Nights by Rascal Flattsx', 'Toes by Zac Brown Bandx', 'Poker Face by Lady Gagax', 'Second Chance by Shinedownx', \"Send It On by Disney's Friends For Changex\", 'American Ride by Toby Keithx', 'Alright by Darius Ruckerx', 'Sweet Dreams by Beyoncex', 'Evacuate The Dancefloor by Cascadax', 'People Are Crazy by Billy Curringtonx', \"You're A Jerk by New Boyzx\", 'Small Town USA by Justin Moorex', 'Make Her Say by Kid Cudi Featuring Kanye West & Commonx', 'Only You Can Love Me This Way by Keith Urbanx', 'Boots On by Randy Houserx', 'Successful by Drake Featuring Trey Songz & Lil Waynex', 'Imma Star (Everywhere We Are) by Jeremihx', 'The Fixer by Pearl Jamx', 'Already Gone by Kelly Clarksonx', 'Living For The Night by George Straitx', \"I'm In Miami Trick by LMFAOx\", 'Ego by Beyoncex', 'Wetter (Calling You Daddy) by Twista Featuring Erika Shevonx', 'Smile by Uncle Krackerx', 'Love Your Love The Most by Eric Churchx', 'Barefoot And Crazy by Jack Ingramx', 'Runaway by Love And Theftx', 'She Is Love by Parachutex', \"Gettin' You Home by Chris Youngx\", 'Not Meant To Be by Theory Of A Deadmanx', \"It's A Business Doing Pleasure With You by Tim McGrawx\", 'So Fine by Sean Paulx', 'Welcome To The Future by Brad Paisleyx', 'Wild At Heart by Glorianax', 'Overcome by Creedx', 'Paparazzi by Lady Gagax', 'God In Me by Mary Mary Featuring Kierra \"KiKi\" Sheardx', 'Last Chance by Ginuwinex', 'Trust by Keyshia Cole Duet With Monicax', \"I'll Just Hold On by Blake Sheltonx\", 'Sexy Chick by David Guetta Featuring Akonx', 'Replay by Iyazx', \"I'm Alive by Kenny Chesney With Dave Matthewsx\", \"(If You're Wondering If I Want You To) I Want You To by Weezerx\", 'Come Back To Me by David Cookx', 'The One by Mary J. Blige Featuring Drakex', 'Shake My by Three 6 Mafia Featuring Kalennax', 'I Need A Girl by Trey Songzx', 'Under by Pleasure Px', 'Starstrukk by 3OH!3 Featuring Katy Perryx', 'Sounds Like Life To Me by Darryl Worleyx', 'Need You Now by Lady Antebellumx', 'Magic by Selena Gomezx', 'Out Last Night by Kenny Chesneyx', 'Falling Down by Selena Gomez & The Scenex', 'Fireflies by Owl Cityx', 'Closer To Love by Mat Kearneyx', 'Number One by R. Kelly Featuring Keri Hilsonx', 'Radar by Britney Spearsx', 'I Look To You by Whitney Houstonx', 'Chillin by Wale Featuring Lady Gagax', 'Awake And Alive by Skilletx']\n",
      "I Gotta Feeling by The Black Eyed Peasx is duplicating an item in list1\n",
      "Use Somebody by Kings Of Leonx is duplicating an item in list1\n",
      "You Belong With Me by Taylor Swiftx is duplicating an item in list1\n",
      "Best I Ever Had by Drakex is duplicating an item in list1\n",
      "Knock You Down by Keri Hilson Featuring Kanye West & Ne-Yox is duplicating an item in list1\n",
      "Hotel Room Service by Pitbullx is duplicating an item in list1\n",
      "Good Girls Go Bad by Cobra Starship Featuring Leighton Meesterx is duplicating an item in list1\n",
      "Battlefield by Jordin Sparksx is duplicating an item in list1\n",
      "Break Up by Mario Featuring Gucci Mane & Sean Garrettx is duplicating an item in list1\n",
      "Waking Up In Vegas by Katy Perryx is duplicating an item in list1\n",
      "Boom Boom Pow by The Black Eyed Peasx is duplicating an item in list1\n",
      "Fire Burning by Sean Kingstonx is duplicating an item in list1\n",
      "Throw It In The Bag by Fabolous Featuring The-Dreamx is duplicating an item in list1\n",
      "Big Green Tractor by Jason Aldeanx is duplicating an item in list1\n",
      "No Surprise by Daughtryx is duplicating an item in list1\n",
      "I Know You Want Me (Calle Ocho) by Pitbullx is duplicating an item in list1\n",
      "LoveGame by Lady Gagax is duplicating an item in list1\n",
      "Ice Cream Paint Job by Dorroughx is duplicating an item in list1\n",
      "21 Guns by Green Dayx is duplicating an item in list1\n",
      "New Divide by Linkin Parkx is duplicating an item in list1\n",
      "Please Don't Leave Me by P!nkx is duplicating an item in list1\n",
      "Her Diamonds by Rob Thomasx is duplicating an item in list1\n",
      "Pretty Wings by Maxwellx is duplicating an item in list1\n",
      "I'm Yours by Jason Mrazx is duplicating an item in list1\n",
      "The Climb by Miley Cyrusx is duplicating an item in list1\n",
      "Every Girl by Young Moneyx is duplicating an item in list1\n",
      "Never Say Never by The Frayx is duplicating an item in list1\n",
      "Summer Nights by Rascal Flattsx is duplicating an item in list1\n",
      "Poker Face by Lady Gagax is duplicating an item in list1\n",
      "Second Chance by Shinedownx is duplicating an item in list1\n",
      "Alright by Darius Ruckerx is duplicating an item in list1\n",
      "People Are Crazy by Billy Curringtonx is duplicating an item in list1\n",
      "You're A Jerk by New Boyzx is duplicating an item in list1\n",
      "Small Town USA by Justin Moorex is duplicating an item in list1\n",
      "Make Her Say by Kid Cudi Featuring Kanye West & Commonx is duplicating an item in list1\n",
      "Boots On by Randy Houserx is duplicating an item in list1\n",
      "Living For The Night by George Straitx is duplicating an item in list1\n",
      "I'm In Miami Trick by LMFAOx is duplicating an item in list1\n",
      "Ego by Beyoncex is duplicating an item in list1\n",
      "Wetter (Calling You Daddy) by Twista Featuring Erika Shevonx is duplicating an item in list1\n",
      "Love Your Love The Most by Eric Churchx is duplicating an item in list1\n",
      "Barefoot And Crazy by Jack Ingramx is duplicating an item in list1\n",
      "Not Meant To Be by Theory Of A Deadmanx is duplicating an item in list1\n",
      "Wild At Heart by Glorianax is duplicating an item in list1\n",
      "Last Chance by Ginuwinex is duplicating an item in list1\n",
      "Trust by Keyshia Cole Duet With Monicax is duplicating an item in list1\n",
      "Come Back To Me by David Cookx is duplicating an item in list1\n",
      "I Need A Girl by Trey Songzx is duplicating an item in list1\n",
      "Out Last Night by Kenny Chesneyx is duplicating an item in list1\n"
     ]
    }
   ],
   "source": [
    "#statistic and research part for defining a right song \n",
    "import billboard\n",
    "from datetime import datetime\n",
    "\n",
    "# create an empty list to store the chart data\n",
    "\n",
    "\n",
    "list2 = [] #list of all \n",
    "list1 = [] #list of all original items\n",
    "\n",
    "track_name = []\n",
    "track_artist = []\n",
    "\n",
    "dates = ['2009-07-07', '2009-09-08']\n",
    "\n",
    "for custom_date in dates:\n",
    "\n",
    "\n",
    "#custom_date = datetime.today().strftime('%Y-%m-%d')\n",
    "#custom_date = '2007-07-07'\n",
    "\n",
    "    chart = billboard.ChartData('hot-100', date=custom_date)\n",
    "\n",
    "# iterate over the chart data and append each item to the song_list\n",
    "    for song in chart:\n",
    "    #    song_list.append(song.title)\n",
    "    #    song_list.append(song.artist)\n",
    "        list2.append(song.title + \" - \" + song.artist)\n",
    "    \n",
    "\n",
    "\n",
    "x = \"x\" # define x as the fixed letter you want to add\n",
    "\n",
    "for i in range(len(list2)):\n",
    "    list2[i] = str(list2[i]) + x\n",
    "\n",
    "print(f\"w new values: {list2}\")\n",
    "\n",
    "for item in list2:\n",
    "    if item not in list1:\n",
    "        list1.append(item)\n",
    "    else:\n",
    "        print(f\"{item} is duplicating an item in list1\")\n"
   ]
  },
  {
   "cell_type": "code",
   "execution_count": 10,
   "metadata": {},
   "outputs": [
    {
     "name": "stdout",
     "output_type": "stream",
     "text": [
      "151\n",
      "200\n"
     ]
    }
   ],
   "source": [
    "print(len(list1))\n",
    "print(len(list2))"
   ]
  },
  {
   "cell_type": "code",
   "execution_count": 9,
   "metadata": {},
   "outputs": [
    {
     "name": "stdout",
     "output_type": "stream",
     "text": [
      "No video link found for Halle Berry (She's Fine) by Hurricane Chris Featuring SupaSTAARx\n",
      "No video link found for Say Hey (I Love You) by Michael Franti & Spearhead Featuring Cherine Andersonx\n",
      "No video link found for Shake My by Three 6 Mafia Featuring Kalennax\n",
      "['https://www.youtube.com/watch?v=uSD4vsh1zDA', 'https://www.youtube.com/watch?v=4m48GqaOz90', 'https://www.youtube.com/watch?v=Zfp3KfYH0xA', 'https://www.youtube.com/watch?v=p_RqWocthcc', 'https://www.youtube.com/watch?v=1mB0tP1I-14', 'https://www.youtube.com/watch?v=hFoxg4IFtqc', 'https://www.youtube.com/watch?v=YkyhvCdJ_vM', 'https://www.youtube.com/watch?v=vYMxOzxKYYo', 'https://www.youtube.com/watch?v=ysSxxIqKNN0', 'https://www.youtube.com/watch?v=1-pUaogoX5o', 'https://www.youtube.com/watch?v=VuNIsY6JdUw', 'https://www.youtube.com/watch?v=dvf--10EYXw', 'https://www.youtube.com/watch?v=WbsDPbr8qoM', 'https://www.youtube.com/watch?v=bnVUHWCynig', 'https://www.youtube.com/watch?v=bESGLojNYSo', 'https://www.youtube.com/watch?v=NG2zyeVRcbs', 'https://www.youtube.com/watch?v=rbBHnWY0gns', 'https://www.youtube.com/watch?v=cEPMHus9gXY', 'https://www.youtube.com/watch?v=lrXIQQ8PeRs', 'https://www.youtube.com/watch?v=gnhXHvRoUd0', 'https://www.youtube.com/watch?v=yMCR6Gh0l_0', 'https://www.youtube.com/watch?v=4576ymdmemQ', 'https://www.youtube.com/watch?v=rfjtpp90lu8', 'https://www.youtube.com/watch?v=RiflLKJHs-c', 'https://www.youtube.com/watch?v=lRfKfZHUg84', 'https://www.youtube.com/watch?v=7RJrNnRpVHg', 'https://www.youtube.com/watch?v=AaafMpqXXBs', 'https://www.youtube.com/watch?v=CcCw1ggftuQ', 'https://www.youtube.com/watch?v=jFg_8u87zT0', 'https://www.youtube.com/watch?v=suPlYwJ3YvM', 'https://www.youtube.com/watch?v=EkHTsc9PU2A', 'https://www.youtube.com/watch?v=mNCgfrjKcqs', 'https://www.youtube.com/watch?v=8xg3vE8Ie_E', 'https://www.youtube.com/watch?v=PKpQRjj_WbU', 'https://www.youtube.com/watch?v=Rs38lKxmtI4', 'https://www.youtube.com/watch?v=8DbhEzw8zto', 'https://www.youtube.com/watch?v=81on1ZFE63w', 'https://www.youtube.com/watch?v=oKR5beC4vkQ', 'https://www.youtube.com/watch?v=yyl24HRGgSU', 'https://www.youtube.com/watch?v=uxUATkpMQ8A', 'https://www.youtube.com/watch?v=etr7UtnUflM', 'https://www.youtube.com/watch?v=2Abk1jAONjw', 'https://www.youtube.com/watch?v=hbnPkK76Ask', 'https://www.youtube.com/watch?v=cRM70Jw7F4M', 'https://www.youtube.com/watch?v=n6cv1gdvsLo', 'https://www.youtube.com/watch?v=JLUvO8QUmXc', 'https://www.youtube.com/watch?v=9yRme0C2pmI', 'https://www.youtube.com/watch?v=Aihu16RyYp8', 'https://www.youtube.com/watch?v=sUMF_YOG5fk', 'https://www.youtube.com/watch?v=47Fbo4kU2AU', 'https://www.youtube.com/watch?v=OMHHUsQRmvo', 'https://www.youtube.com/watch?v=CrtwePzPwxE', 'https://www.youtube.com/watch?v=rv8agst9o_0', 'https://www.youtube.com/watch?v=H3Q-LQQW6pA', 'https://www.youtube.com/watch?v=r00ikilDxW4', 'https://www.youtube.com/watch?v=ivu2ktfompc', 'https://www.youtube.com/watch?v=4-P_7MDpyvw', 'https://www.youtube.com/watch?v=Ix5z1bRz4Sc', 'https://www.youtube.com/watch?v=QG6b5ENtr74', 'https://www.youtube.com/watch?v=9IclmVdWNbI', 'https://www.youtube.com/watch?v=PGOU0lXPVVs', 'https://www.youtube.com/watch?v=RkPy4yq7EJo', 'https://www.youtube.com/watch?v=wu0OhvncLXU', 'https://www.youtube.com/watch?v=0aEnnH6t8Ts', 'https://www.youtube.com/watch?v=2up_Eq6r6Ko', 'https://www.youtube.com/watch?v=CPXJcFDAg30', 'https://www.youtube.com/watch?v=0go5Q_v0EIk', 'https://www.youtube.com/watch?v=jpHPbvSEX7k', 'https://www.youtube.com/watch?v=v4gcWhfbGxA', 'https://www.youtube.com/watch?v=9QyRspHyPxQ', 'https://www.youtube.com/watch?v=7iTsbnr8e_8', 'https://www.youtube.com/watch?v=0yfArN-e2OU', 'https://www.youtube.com/watch?v=XBF6IV8W-80', 'https://www.youtube.com/watch?v=zCvgXw-Bh04', 'https://www.youtube.com/watch?v=g0XwX_1KdEA', 'https://www.youtube.com/watch?v=8sxz3_5XsNQ', 'https://www.youtube.com/watch?v=5IqCfxgKZd8', 'https://www.youtube.com/watch?v=avaSdC0QOUM', 'https://www.youtube.com/watch?v=Jmv5pTyz--I', 'https://www.youtube.com/watch?v=EBRhoB5V_fA', 'https://www.youtube.com/watch?v=jEiGbXvF_Rw', 'https://www.youtube.com/watch?v=Gk2C1G9-dYs', 'https://www.youtube.com/watch?v=wxiugsEhm3I', 'https://www.youtube.com/watch?v=8VgEU_Xi7QU', 'https://www.youtube.com/watch?v=B5lzYG83yVQ', 'https://www.youtube.com/watch?v=zJOeXh6HyvU', 'https://www.youtube.com/watch?v=dF3pbvjdA_s', 'https://www.youtube.com/watch?v=Xt22KvnRSL4', 'https://www.youtube.com/watch?v=L7gbtQSFz4Q', 'https://www.youtube.com/watch?v=kqaTjzvMq18', 'https://www.youtube.com/watch?v=Gwi4KpI_MgE', 'https://www.youtube.com/watch?v=SkOTimhMwSs', 'https://www.youtube.com/watch?v=HKtsdZs9LJo', 'https://www.youtube.com/watch?v=WGt-8adyabk', 'https://www.youtube.com/watch?v=zudbz4hOcbc', 'https://www.youtube.com/watch?v=oWR7Ib48M8g', 'https://www.youtube.com/watch?v=cyVs9y2-phs', 'https://www.youtube.com/watch?v=TZBrBJseyv0', 'https://www.youtube.com/watch?v=lgT1AidzRWM', 'https://www.youtube.com/watch?v=oUbpGmR1-QM', 'https://www.youtube.com/watch?v=M11SvDtPBhA', 'https://www.youtube.com/watch?v=ztygmWtWCjQ', 'https://www.youtube.com/watch?v=H1Yt0xJKDY8', 'https://www.youtube.com/watch?v=booKP974B0k', 'https://www.youtube.com/watch?v=pBI3lc18k8Q', 'https://www.youtube.com/watch?v=GPCRbuL4Oh8', 'https://www.youtube.com/watch?v=o0c-kC8xZ-I', 'https://www.youtube.com/watch?v=zDo0H8Fm7d0', 'https://www.youtube.com/watch?v=CHVhwcOg6y8', 'https://www.youtube.com/watch?v=kD-unyd10tM', 'https://www.youtube.com/watch?v=TmpO0mWvzNs', 'https://www.youtube.com/watch?v=zNDcAWNscg8', 'https://www.youtube.com/watch?v=JlxByc0-V40', 'https://www.youtube.com/watch?v=A68j28KQaik', 'https://www.youtube.com/watch?v=7NV0pnDtwHM', 'https://www.youtube.com/watch?v=j5DySYu5Bfw', 'https://www.youtube.com/watch?v=woV7XsJK6ek', 'https://www.youtube.com/watch?v=PdF1Rqet9E8', 'https://www.youtube.com/watch?v=f0T3WAbU6tg', 'https://www.youtube.com/watch?v=ffej15-Dgl0', 'https://www.youtube.com/watch?v=efEfTPxrIa0', 'https://www.youtube.com/watch?v=xr3qfy78iG4', 'https://www.youtube.com/watch?v=ZWP7ZtVLPd4', 'https://www.youtube.com/watch?v=b_r0dQmHY-8', 'https://www.youtube.com/watch?v=8PQgYpnhDIw', 'https://www.youtube.com/watch?v=Y0Yg9wjctRw', 'https://www.youtube.com/watch?v=CFLXxqoapPY', 'https://www.youtube.com/watch?v=d2smz_1L2_0', 'https://www.youtube.com/watch?v=0-uTVZ8igYY', 'https://www.youtube.com/watch?v=4rKvLFwIIdU', 'https://www.youtube.com/watch?v=N9hazmsUxrM', 'https://www.youtube.com/watch?v=WXxV9g7lsFE', 'https://www.youtube.com/watch?v=WLgLfD3wElQ', 'https://www.youtube.com/watch?v=cDIzMGh94vo', 'https://www.youtube.com/watch?v=eS-y2R9cmnQ', 'https://www.youtube.com/watch?v=tT2bqCRT1KY', 'https://www.youtube.com/watch?v=dvf--10EYXw', 'https://www.youtube.com/watch?v=Geg6_-3jPzI', 'https://www.youtube.com/watch?v=eM213aMKTHg', 'https://www.youtube.com/watch?v=PhIv5Hn0erg', 'https://www.youtube.com/watch?v=7dADaxOsjQQ', 'https://www.youtube.com/watch?v=psuRGfAaju4', 'https://www.youtube.com/watch?v=EMRXXBGotnw', 'https://www.youtube.com/watch?v=7ZXeCNUb75U', 'https://www.youtube.com/watch?v=PctD-8y0FRg', 'https://www.youtube.com/watch?v=5Pze_mdbOK8', 'https://www.youtube.com/watch?v=q9M7XpHqeP0', 'https://www.youtube.com/watch?v=2aJUnltwsqs']\n"
     ]
    }
   ],
   "source": [
    "import time\n",
    "from youtubesearchpython import VideosSearch\n",
    "\n",
    "track_info_list = list1\n",
    "link_list = []\n",
    "\n",
    "for Prod_Name in track_info_list:\n",
    "    videosSearch = VideosSearch(Prod_Name, limit=1)\n",
    "    try:\n",
    "        first_result = videosSearch.result()[\"result\"][0]\n",
    "        link_list.append(first_result[\"link\"])\n",
    "    except IndexError:\n",
    "        print(f\"No video link found for {Prod_Name}\")\n",
    "    time.sleep(1)\n",
    "\n",
    "print(link_list)\n"
   ]
  },
  {
   "cell_type": "code",
   "execution_count": 25,
   "metadata": {},
   "outputs": [
    {
     "name": "stdout",
     "output_type": "stream",
     "text": [
      "['https://www.youtube.com/watch?v=uSD4vsh1zDA', 'https://www.youtube.com/watch?v=4m48GqaOz90', 'https://www.youtube.com/watch?v=Zfp3KfYH0xA', 'https://www.youtube.com/watch?v=p_RqWocthcc', 'https://www.youtube.com/watch?v=1mB0tP1I-14', 'https://www.youtube.com/watch?v=hFoxg4IFtqc', 'https://www.youtube.com/watch?v=YkyhvCdJ_vM', 'https://www.youtube.com/watch?v=vYMxOzxKYYo', 'https://www.youtube.com/watch?v=ysSxxIqKNN0', 'https://www.youtube.com/watch?v=1-pUaogoX5o', 'https://www.youtube.com/watch?v=VuNIsY6JdUw', 'https://www.youtube.com/watch?v=dvf--10EYXw', 'https://www.youtube.com/watch?v=WbsDPbr8qoM', 'https://www.youtube.com/watch?v=bnVUHWCynig', 'https://www.youtube.com/watch?v=bESGLojNYSo', 'https://www.youtube.com/watch?v=NG2zyeVRcbs', 'https://www.youtube.com/watch?v=rbBHnWY0gns', 'https://www.youtube.com/watch?v=cEPMHus9gXY', 'https://www.youtube.com/watch?v=lrXIQQ8PeRs', 'https://www.youtube.com/watch?v=gnhXHvRoUd0', 'https://www.youtube.com/watch?v=yMCR6Gh0l_0', 'https://www.youtube.com/watch?v=4576ymdmemQ', 'https://www.youtube.com/watch?v=rfjtpp90lu8', 'https://www.youtube.com/watch?v=RiflLKJHs-c', 'https://www.youtube.com/watch?v=lRfKfZHUg84', 'https://www.youtube.com/watch?v=7RJrNnRpVHg', 'https://www.youtube.com/watch?v=AaafMpqXXBs', 'https://www.youtube.com/watch?v=CcCw1ggftuQ', 'https://www.youtube.com/watch?v=jFg_8u87zT0', 'https://www.youtube.com/watch?v=suPlYwJ3YvM', 'https://www.youtube.com/watch?v=EkHTsc9PU2A', 'https://www.youtube.com/watch?v=mNCgfrjKcqs', 'https://www.youtube.com/watch?v=8xg3vE8Ie_E', 'https://www.youtube.com/watch?v=PKpQRjj_WbU', 'https://www.youtube.com/watch?v=Rs38lKxmtI4', 'https://www.youtube.com/watch?v=8DbhEzw8zto', 'https://www.youtube.com/watch?v=81on1ZFE63w', 'https://www.youtube.com/watch?v=oKR5beC4vkQ', 'https://www.youtube.com/watch?v=yyl24HRGgSU', 'https://www.youtube.com/watch?v=uxUATkpMQ8A', 'https://www.youtube.com/watch?v=etr7UtnUflM', 'https://www.youtube.com/watch?v=2Abk1jAONjw', 'https://www.youtube.com/watch?v=hbnPkK76Ask', 'https://www.youtube.com/watch?v=cRM70Jw7F4M', 'https://www.youtube.com/watch?v=n6cv1gdvsLo', 'https://www.youtube.com/watch?v=JLUvO8QUmXc', 'https://www.youtube.com/watch?v=9yRme0C2pmI', 'https://www.youtube.com/watch?v=Aihu16RyYp8', 'https://www.youtube.com/watch?v=sUMF_YOG5fk', 'https://www.youtube.com/watch?v=47Fbo4kU2AU', 'https://www.youtube.com/watch?v=OMHHUsQRmvo', 'https://www.youtube.com/watch?v=CrtwePzPwxE', 'https://www.youtube.com/watch?v=rv8agst9o_0', 'https://www.youtube.com/watch?v=H3Q-LQQW6pA', 'https://www.youtube.com/watch?v=r00ikilDxW4', 'https://www.youtube.com/watch?v=ivu2ktfompc', 'https://www.youtube.com/watch?v=4-P_7MDpyvw', 'https://www.youtube.com/watch?v=Ix5z1bRz4Sc', 'https://www.youtube.com/watch?v=QG6b5ENtr74', 'https://www.youtube.com/watch?v=9IclmVdWNbI', 'https://www.youtube.com/watch?v=PGOU0lXPVVs', 'https://www.youtube.com/watch?v=RkPy4yq7EJo', 'https://www.youtube.com/watch?v=wu0OhvncLXU', 'https://www.youtube.com/watch?v=0aEnnH6t8Ts', 'https://www.youtube.com/watch?v=2up_Eq6r6Ko', 'https://www.youtube.com/watch?v=CPXJcFDAg30', 'https://www.youtube.com/watch?v=0go5Q_v0EIk', 'https://www.youtube.com/watch?v=jpHPbvSEX7k', 'https://www.youtube.com/watch?v=v4gcWhfbGxA', 'https://www.youtube.com/watch?v=9QyRspHyPxQ', 'https://www.youtube.com/watch?v=7iTsbnr8e_8', 'https://www.youtube.com/watch?v=0yfArN-e2OU', 'https://www.youtube.com/watch?v=XBF6IV8W-80', 'https://www.youtube.com/watch?v=zCvgXw-Bh04', 'https://www.youtube.com/watch?v=g0XwX_1KdEA', 'https://www.youtube.com/watch?v=8sxz3_5XsNQ', 'https://www.youtube.com/watch?v=5IqCfxgKZd8', 'https://www.youtube.com/watch?v=avaSdC0QOUM', 'https://www.youtube.com/watch?v=Jmv5pTyz--I', 'https://www.youtube.com/watch?v=EBRhoB5V_fA', 'https://www.youtube.com/watch?v=jEiGbXvF_Rw', 'https://www.youtube.com/watch?v=Gk2C1G9-dYs', 'https://www.youtube.com/watch?v=wxiugsEhm3I', 'https://www.youtube.com/watch?v=8VgEU_Xi7QU', 'https://www.youtube.com/watch?v=B5lzYG83yVQ', 'https://www.youtube.com/watch?v=zJOeXh6HyvU', 'https://www.youtube.com/watch?v=dF3pbvjdA_s', 'https://www.youtube.com/watch?v=Xt22KvnRSL4', 'https://www.youtube.com/watch?v=L7gbtQSFz4Q', 'https://www.youtube.com/watch?v=kqaTjzvMq18', 'https://www.youtube.com/watch?v=Gwi4KpI_MgE', 'https://www.youtube.com/watch?v=SkOTimhMwSs', 'https://www.youtube.com/watch?v=HKtsdZs9LJo', 'https://www.youtube.com/watch?v=WGt-8adyabk', 'https://www.youtube.com/watch?v=zudbz4hOcbc', 'https://www.youtube.com/watch?v=oWR7Ib48M8g', 'https://www.youtube.com/watch?v=cyVs9y2-phs', 'https://www.youtube.com/watch?v=TZBrBJseyv0', 'https://www.youtube.com/watch?v=lgT1AidzRWM', 'https://www.youtube.com/watch?v=oUbpGmR1-QM', 'https://www.youtube.com/watch?v=M11SvDtPBhA', 'https://www.youtube.com/watch?v=ztygmWtWCjQ', 'https://www.youtube.com/watch?v=H1Yt0xJKDY8', 'https://www.youtube.com/watch?v=booKP974B0k', 'https://www.youtube.com/watch?v=pBI3lc18k8Q', 'https://www.youtube.com/watch?v=GPCRbuL4Oh8', 'https://www.youtube.com/watch?v=o0c-kC8xZ-I', 'https://www.youtube.com/watch?v=zDo0H8Fm7d0', 'https://www.youtube.com/watch?v=CHVhwcOg6y8', 'https://www.youtube.com/watch?v=kD-unyd10tM', 'https://www.youtube.com/watch?v=TmpO0mWvzNs', 'https://www.youtube.com/watch?v=zNDcAWNscg8', 'https://www.youtube.com/watch?v=JlxByc0-V40', 'https://www.youtube.com/watch?v=A68j28KQaik', 'https://www.youtube.com/watch?v=7NV0pnDtwHM', 'https://www.youtube.com/watch?v=j5DySYu5Bfw', 'https://www.youtube.com/watch?v=woV7XsJK6ek', 'https://www.youtube.com/watch?v=PdF1Rqet9E8', 'https://www.youtube.com/watch?v=f0T3WAbU6tg', 'https://www.youtube.com/watch?v=ffej15-Dgl0', 'https://www.youtube.com/watch?v=efEfTPxrIa0', 'https://www.youtube.com/watch?v=xr3qfy78iG4', 'https://www.youtube.com/watch?v=ZWP7ZtVLPd4', 'https://www.youtube.com/watch?v=b_r0dQmHY-8', 'https://www.youtube.com/watch?v=8PQgYpnhDIw', 'https://www.youtube.com/watch?v=Y0Yg9wjctRw', 'https://www.youtube.com/watch?v=CFLXxqoapPY', 'https://www.youtube.com/watch?v=d2smz_1L2_0', 'https://www.youtube.com/watch?v=0-uTVZ8igYY', 'https://www.youtube.com/watch?v=4rKvLFwIIdU', 'https://www.youtube.com/watch?v=N9hazmsUxrM', 'https://www.youtube.com/watch?v=WXxV9g7lsFE', 'https://www.youtube.com/watch?v=WLgLfD3wElQ', 'https://www.youtube.com/watch?v=cDIzMGh94vo', 'https://www.youtube.com/watch?v=eS-y2R9cmnQ', 'https://www.youtube.com/watch?v=tT2bqCRT1KY', 'https://www.youtube.com/watch?v=dvf--10EYXw', 'https://www.youtube.com/watch?v=Geg6_-3jPzI', 'https://www.youtube.com/watch?v=eM213aMKTHg', 'https://www.youtube.com/watch?v=PhIv5Hn0erg', 'https://www.youtube.com/watch?v=7dADaxOsjQQ', 'https://www.youtube.com/watch?v=psuRGfAaju4', 'https://www.youtube.com/watch?v=EMRXXBGotnw', 'https://www.youtube.com/watch?v=7ZXeCNUb75U', 'https://www.youtube.com/watch?v=PctD-8y0FRg', 'https://www.youtube.com/watch?v=5Pze_mdbOK8', 'https://www.youtube.com/watch?v=q9M7XpHqeP0', 'https://www.youtube.com/watch?v=2aJUnltwsqs']\n"
     ]
    }
   ],
   "source": [
    "print(link_list)"
   ]
  },
  {
   "cell_type": "code",
   "execution_count": 36,
   "metadata": {},
   "outputs": [
    {
     "name": "stdout",
     "output_type": "stream",
     "text": [
      "0 0\n",
      "10 2\n",
      "20 3\n",
      "issues accessing stream 25\n",
      "error - skipping 25\n",
      "issues accessing stream 28\n",
      "error - skipping 28\n",
      "30 6\n",
      "issues accessing stream 37\n",
      "error - skipping 37\n",
      "40 9\n",
      "50 13\n",
      "60 17\n",
      "issues accessing stream 60\n",
      "error - skipping 60\n",
      "70 21\n",
      "issues accessing stream 71\n",
      "error - skipping 71\n",
      "issues accessing stream 75\n",
      "error - skipping 75\n",
      "80 23\n",
      "90 24\n",
      "100 25\n",
      "110 28\n",
      "issues accessing stream 111\n",
      "error - skipping 111\n",
      "issues accessing stream 116\n",
      "120 32\n",
      "130 34\n",
      "140 35\n",
      "issues accessing stream 143\n",
      "error - skipping 143\n",
      "done, fetched info for 148 videos, encountered 37 exceptions\n"
     ]
    }
   ],
   "source": [
    "# Pytube test script\n",
    "from pytube import YouTube\n",
    "\n",
    "# create list of youtube video links\n",
    "video_links = link_list\n",
    "# for each video in the list, fetch info and print it\n",
    "exception_count = 0\n",
    "for index, video_url in enumerate(video_links):\n",
    "    yt = YouTube(video_url)\n",
    "    if not index % 10:\n",
    "        print(index, exception_count)\n",
    "    try:\n",
    "        title = yt.title\n",
    "    except:\n",
    "        exception_count += 1\n",
    "        try:\n",
    "            stream = yt.streams.first()\n",
    "        except:\n",
    "            print('issues accessing stream', index)\n",
    "        try:\n",
    "            title = yt.title\n",
    "        except:\n",
    "            print('error - skipping', index)\n",
    "\n",
    "print('done, fetched info for %d videos, encountered %d exceptions' % (index+1, exception_count))\n"
   ]
  },
  {
   "cell_type": "code",
   "execution_count": 35,
   "metadata": {},
   "outputs": [
    {
     "name": "stdout",
     "output_type": "stream",
     "text": [
      "<class 'str'>\n",
      "https://www.youtube.com/watch?v=uSD4vsh1zDA\n",
      "The Black Eyed Peas - I Gotta Feeling (Official Music Video) has been successfully downloaded.\n",
      "<class 'str'>\n",
      "https://www.youtube.com/watch?v=4m48GqaOz90\n",
      "The Black Eyed Peas - Boom Boom Pow (Official Music Video) has been successfully downloaded.\n",
      "<class 'str'>\n",
      "https://www.youtube.com/watch?v=Zfp3KfYH0xA\n"
     ]
    },
    {
     "ename": "PytubeError",
     "evalue": "Exception while accessing title of https://youtube.com/watch?v=Zfp3KfYH0xA. Please file a bug report at https://github.com/pytube/pytube",
     "output_type": "error",
     "traceback": [
      "\u001b[0;31m---------------------------------------------------------------------------\u001b[0m",
      "\u001b[0;31mKeyError\u001b[0m                                  Traceback (most recent call last)",
      "Cell \u001b[0;32mIn[35], line 11\u001b[0m\n\u001b[1;32m      9\u001b[0m     yt \u001b[39m=\u001b[39m YouTube(\n\u001b[1;32m     10\u001b[0m         \u001b[39mstr\u001b[39m(link_list_flow))\n\u001b[0;32m---> 11\u001b[0m     video \u001b[39m=\u001b[39m yt\u001b[39m.\u001b[39;49mstreams\u001b[39m.\u001b[39mget_audio_only()\u001b[39m#put this in a try-except statement\u001b[39;00m\n\u001b[1;32m     12\u001b[0m     \u001b[39m# extract only audiostreams.filter()\u001b[39;00m\n\u001b[1;32m     13\u001b[0m \u001b[39m#    video = yt.streams.filter(res=\"1080p\").last()\u001b[39;00m\n\u001b[1;32m     14\u001b[0m \u001b[39m#    video = yt.streams.filter(only_audio=True).first()\u001b[39;00m\n\u001b[1;32m     15\u001b[0m \n\u001b[1;32m     16\u001b[0m     \u001b[39m# check for destination to save file\u001b[39;00m\n",
      "File \u001b[0;32m/opt/homebrew/lib/python3.11/site-packages/pytube/__main__.py:296\u001b[0m, in \u001b[0;36mYouTube.streams\u001b[0;34m(self)\u001b[0m\n\u001b[1;32m    295\u001b[0m \u001b[39mself\u001b[39m\u001b[39m.\u001b[39mcheck_availability()\n\u001b[0;32m--> 296\u001b[0m \u001b[39mreturn\u001b[39;00m StreamQuery(\u001b[39mself\u001b[39;49m\u001b[39m.\u001b[39;49mfmt_streams)\n",
      "File \u001b[0;32m/opt/homebrew/lib/python3.11/site-packages/pytube/__main__.py:176\u001b[0m, in \u001b[0;36mYouTube.fmt_streams\u001b[0;34m(self)\u001b[0m\n\u001b[1;32m    174\u001b[0m \u001b[39mself\u001b[39m\u001b[39m.\u001b[39m_fmt_streams \u001b[39m=\u001b[39m []\n\u001b[0;32m--> 176\u001b[0m stream_manifest \u001b[39m=\u001b[39m extract\u001b[39m.\u001b[39mapply_descrambler(\u001b[39mself\u001b[39;49m\u001b[39m.\u001b[39;49mstreaming_data)\n\u001b[1;32m    178\u001b[0m \u001b[39m# If the cached js doesn't work, try fetching a new js file\u001b[39;00m\n\u001b[1;32m    179\u001b[0m \u001b[39m# https://github.com/pytube/pytube/issues/1054\u001b[39;00m\n",
      "File \u001b[0;32m/opt/homebrew/lib/python3.11/site-packages/pytube/__main__.py:161\u001b[0m, in \u001b[0;36mYouTube.streaming_data\u001b[0;34m(self)\u001b[0m\n\u001b[1;32m    160\u001b[0m \u001b[39mself\u001b[39m\u001b[39m.\u001b[39mbypass_age_gate()\n\u001b[0;32m--> 161\u001b[0m \u001b[39mreturn\u001b[39;00m \u001b[39mself\u001b[39;49m\u001b[39m.\u001b[39;49mvid_info[\u001b[39m'\u001b[39;49m\u001b[39mstreamingData\u001b[39;49m\u001b[39m'\u001b[39;49m]\n",
      "\u001b[0;31mKeyError\u001b[0m: 'streamingData'",
      "\nDuring handling of the above exception, another exception occurred:\n",
      "\u001b[0;31mKeyError\u001b[0m                                  Traceback (most recent call last)",
      "File \u001b[0;32m/opt/homebrew/lib/python3.11/site-packages/pytube/__main__.py:341\u001b[0m, in \u001b[0;36mYouTube.title\u001b[0;34m(self)\u001b[0m\n\u001b[1;32m    340\u001b[0m \u001b[39mtry\u001b[39;00m:\n\u001b[0;32m--> 341\u001b[0m     \u001b[39mself\u001b[39m\u001b[39m.\u001b[39m_title \u001b[39m=\u001b[39m \u001b[39mself\u001b[39;49m\u001b[39m.\u001b[39;49mvid_info[\u001b[39m'\u001b[39;49m\u001b[39mvideoDetails\u001b[39;49m\u001b[39m'\u001b[39;49m][\u001b[39m'\u001b[39m\u001b[39mtitle\u001b[39m\u001b[39m'\u001b[39m]\n\u001b[1;32m    342\u001b[0m \u001b[39mexcept\u001b[39;00m \u001b[39mKeyError\u001b[39;00m:\n\u001b[1;32m    343\u001b[0m     \u001b[39m# Check_availability will raise the correct exception in most cases\u001b[39;00m\n\u001b[1;32m    344\u001b[0m     \u001b[39m#  if it doesn't, ask for a report.\u001b[39;00m\n",
      "\u001b[0;31mKeyError\u001b[0m: 'videoDetails'",
      "\nDuring handling of the above exception, another exception occurred:\n",
      "\u001b[0;31mPytubeError\u001b[0m                               Traceback (most recent call last)",
      "Cell \u001b[0;32mIn[35], line 32\u001b[0m\n\u001b[1;32m     30\u001b[0m     time\u001b[39m.\u001b[39msleep(\u001b[39m10\u001b[39m)\n\u001b[1;32m     31\u001b[0m \u001b[39mexcept\u001b[39;00m \u001b[39mKeyError\u001b[39;00m:\n\u001b[0;32m---> 32\u001b[0m     \u001b[39mprint\u001b[39m(yt\u001b[39m.\u001b[39;49mtitle \u001b[39m+\u001b[39m \u001b[39m\"\u001b[39m\u001b[39m has been bugged.\u001b[39m\u001b[39m\"\u001b[39m)\n",
      "File \u001b[0;32m/opt/homebrew/lib/python3.11/site-packages/pytube/__main__.py:346\u001b[0m, in \u001b[0;36mYouTube.title\u001b[0;34m(self)\u001b[0m\n\u001b[1;32m    342\u001b[0m \u001b[39mexcept\u001b[39;00m \u001b[39mKeyError\u001b[39;00m:\n\u001b[1;32m    343\u001b[0m     \u001b[39m# Check_availability will raise the correct exception in most cases\u001b[39;00m\n\u001b[1;32m    344\u001b[0m     \u001b[39m#  if it doesn't, ask for a report.\u001b[39;00m\n\u001b[1;32m    345\u001b[0m     \u001b[39mself\u001b[39m\u001b[39m.\u001b[39mcheck_availability()\n\u001b[0;32m--> 346\u001b[0m     \u001b[39mraise\u001b[39;00m exceptions\u001b[39m.\u001b[39mPytubeError(\n\u001b[1;32m    347\u001b[0m         (\n\u001b[1;32m    348\u001b[0m             \u001b[39mf\u001b[39m\u001b[39m'\u001b[39m\u001b[39mException while accessing title of \u001b[39m\u001b[39m{\u001b[39;00m\u001b[39mself\u001b[39m\u001b[39m.\u001b[39mwatch_url\u001b[39m}\u001b[39;00m\u001b[39m. \u001b[39m\u001b[39m'\u001b[39m\n\u001b[1;32m    349\u001b[0m             \u001b[39m'\u001b[39m\u001b[39mPlease file a bug report at https://github.com/pytube/pytube\u001b[39m\u001b[39m'\u001b[39m\n\u001b[1;32m    350\u001b[0m         )\n\u001b[1;32m    351\u001b[0m     )\n\u001b[1;32m    353\u001b[0m \u001b[39mreturn\u001b[39;00m \u001b[39mself\u001b[39m\u001b[39m.\u001b[39m_title\n",
      "\u001b[0;31mPytubeError\u001b[0m: Exception while accessing title of https://youtube.com/watch?v=Zfp3KfYH0xA. Please file a bug report at https://github.com/pytube/pytube"
     ]
    }
   ],
   "source": [
    "# importing packages\n",
    "from pytube import YouTube\n",
    "import os\n",
    "for link_list_flow in link_list:\n",
    "    try:\n",
    "        print(type(link_list_flow))\n",
    "        print(link_list_flow)\n",
    "        # url input from user\n",
    "        yt = YouTube(\n",
    "            str(link_list_flow))\n",
    "        video = yt.streams.get_audio_only()#put this in a try-except statement\n",
    "        # extract only audiostreams.filter()\n",
    "    #    video = yt.streams.filter(res=\"1080p\").last()\n",
    "    #    video = yt.streams.filter(only_audio=True).first()\n",
    "\n",
    "        # check for destination to save file\n",
    "        destination = '/Users/arc/Desktop/Bots/SlowedReverbBot/Tracks/'\n",
    "\n",
    "\n",
    "        # download the file\n",
    "        out_file = video.download(output_path=destination)\n",
    "\n",
    "        # save the file\n",
    "        base, ext = os.path.splitext(out_file)\n",
    "        new_file = base + '.mp3'\n",
    "        os.rename(out_file, new_file)\n",
    "\n",
    "        # result of success\n",
    "        print(yt.title + \" has been successfully downloaded.\")\n",
    "        time.sleep(10)\n",
    "    except KeyError:\n",
    "        print(yt.title + \" has been bugged.\")\n"
   ]
  },
  {
   "cell_type": "code",
   "execution_count": 38,
   "metadata": {},
   "outputs": [
    {
     "name": "stdout",
     "output_type": "stream",
     "text": [
      "The Black Eyed Peas - I Gotta Feeling (Official Music Video) has been successfully downloaded.\n",
      "The Black Eyed Peas - Boom Boom Pow (Official Music Video) has been successfully downloaded.\n",
      "Best I Ever Had has been successfully downloaded.\n"
     ]
    },
    {
     "ename": "KeyboardInterrupt",
     "evalue": "",
     "output_type": "error",
     "traceback": [
      "\u001b[0;31m---------------------------------------------------------------------------\u001b[0m",
      "\u001b[0;31mKeyboardInterrupt\u001b[0m                         Traceback (most recent call last)",
      "Cell \u001b[0;32mIn[38], line 26\u001b[0m\n\u001b[1;32m     24\u001b[0m     \u001b[39m# result of success\u001b[39;00m\n\u001b[1;32m     25\u001b[0m     \u001b[39mprint\u001b[39m(yt\u001b[39m.\u001b[39mtitle \u001b[39m+\u001b[39m \u001b[39m\"\u001b[39m\u001b[39m has been successfully downloaded.\u001b[39m\u001b[39m\"\u001b[39m)\n\u001b[0;32m---> 26\u001b[0m     time\u001b[39m.\u001b[39;49msleep(\u001b[39m10\u001b[39;49m)\n\u001b[1;32m     28\u001b[0m \u001b[39mexcept\u001b[39;00m \u001b[39mException\u001b[39;00m \u001b[39mas\u001b[39;00m e:\n\u001b[1;32m     29\u001b[0m     \u001b[39m# handle errors\u001b[39;00m\n\u001b[1;32m     30\u001b[0m     \u001b[39mprint\u001b[39m(\u001b[39mf\u001b[39m\u001b[39m\"\u001b[39m\u001b[39mError downloading video \u001b[39m\u001b[39m{\u001b[39;00mlink\u001b[39m}\u001b[39;00m\u001b[39m: \u001b[39m\u001b[39m{\u001b[39;00me\u001b[39m}\u001b[39;00m\u001b[39m\"\u001b[39m)\n",
      "\u001b[0;31mKeyboardInterrupt\u001b[0m: "
     ]
    }
   ],
   "source": [
    "# importing packages\n",
    "import os\n",
    "import time\n",
    "from pytube import YouTube\n",
    "\n",
    "destination = '/Users/arc/Desktop/Bots/SlowedReverbBot/Tracks/'\n",
    "\n",
    "for link in link_list:\n",
    "    try:\n",
    "        # url input from user\n",
    "        yt = YouTube(str(link))\n",
    "\n",
    "        # get the audio stream\n",
    "        video = yt.streams.filter(only_audio=True).first()\n",
    "\n",
    "        # download the file\n",
    "        out_file = video.download(output_path=destination)\n",
    "\n",
    "        # save the file as an MP3\n",
    "        base, ext = os.path.splitext(out_file)\n",
    "        new_file = base + '.mp3'\n",
    "        os.rename(out_file, new_file)\n",
    "\n",
    "        # result of success\n",
    "        print(yt.title + \" has been successfully downloaded.\")\n",
    "        time.sleep(10)\n",
    "\n",
    "    except Exception as e:\n",
    "        # handle errors\n",
    "        print(f\"Error downloading video {link}: {e}\")\n"
   ]
  }
 ],
 "metadata": {
  "kernelspec": {
   "display_name": "Python 3",
   "language": "python",
   "name": "python3"
  },
  "language_info": {
   "codemirror_mode": {
    "name": "ipython",
    "version": 3
   },
   "file_extension": ".py",
   "mimetype": "text/x-python",
   "name": "python",
   "nbconvert_exporter": "python",
   "pygments_lexer": "ipython3",
   "version": "3.11.2"
  },
  "orig_nbformat": 4,
  "vscode": {
   "interpreter": {
    "hash": "b0fa6594d8f4cbf19f97940f81e996739fb7646882a419484c72d19e05852a7e"
   }
  }
 },
 "nbformat": 4,
 "nbformat_minor": 2
}
