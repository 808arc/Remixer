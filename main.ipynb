{
 "cells": [
  {
   "cell_type": "code",
   "execution_count": 3,
   "metadata": {},
   "outputs": [
    {
     "name": "stdout",
     "output_type": "stream",
     "text": [
      "Collecting librosa\n",
      "  Using cached librosa-0.10.0.post2-py3-none-any.whl (253 kB)\n",
      "Requirement already satisfied: pandas in /opt/homebrew/lib/python3.11/site-packages (from -r r.txt (line 2)) (1.5.3)\n",
      "Requirement already satisfied: billboard.py in /opt/homebrew/lib/python3.11/site-packages (from -r r.txt (line 3)) (7.0.0)\n",
      "Collecting audioread>=2.1.9\n",
      "  Using cached audioread-3.0.0.tar.gz (377 kB)\n",
      "  Preparing metadata (setup.py) ... \u001b[?25ldone\n",
      "\u001b[?25hRequirement already satisfied: numpy!=1.22.0,!=1.22.1,!=1.22.2,>=1.20.3 in /opt/homebrew/lib/python3.11/site-packages (from librosa->-r r.txt (line 1)) (1.24.2)\n",
      "Collecting scipy>=1.2.0\n",
      "  Using cached scipy-1.10.1-cp311-cp311-macosx_12_0_arm64.whl (28.7 MB)\n",
      "Collecting scikit-learn>=0.20.0\n",
      "  Using cached scikit_learn-1.2.2-cp311-cp311-macosx_12_0_arm64.whl (8.4 MB)\n",
      "Collecting joblib>=0.14\n",
      "  Using cached joblib-1.2.0-py3-none-any.whl (297 kB)\n",
      "Requirement already satisfied: decorator>=4.3.0 in /Users/arc/Library/Python/3.11/lib/python/site-packages (from librosa->-r r.txt (line 1)) (5.1.1)\n",
      "Collecting numba>=0.51.0\n",
      "  Using cached numba-0.56.4.tar.gz (2.4 MB)\n",
      "  Preparing metadata (setup.py) ... \u001b[?25lerror\n",
      "  \u001b[1;31merror\u001b[0m: \u001b[1msubprocess-exited-with-error\u001b[0m\n",
      "  \n",
      "  \u001b[31m×\u001b[0m \u001b[32mpython setup.py egg_info\u001b[0m did not run successfully.\n",
      "  \u001b[31m│\u001b[0m exit code: \u001b[1;36m1\u001b[0m\n",
      "  \u001b[31m╰─>\u001b[0m \u001b[31m[8 lines of output]\u001b[0m\n",
      "  \u001b[31m   \u001b[0m Traceback (most recent call last):\n",
      "  \u001b[31m   \u001b[0m   File \"<string>\", line 2, in <module>\n",
      "  \u001b[31m   \u001b[0m   File \"<pip-setuptools-caller>\", line 34, in <module>\n",
      "  \u001b[31m   \u001b[0m   File \"/private/var/folders/gr/zmr_zbx15bqfcw7lbkw2lmgh0000gn/T/pip-install-3i7ouf26/numba_b309ae45bfa54d1480167cbbca921653/setup.py\", line 51, in <module>\n",
      "  \u001b[31m   \u001b[0m     _guard_py_ver()\n",
      "  \u001b[31m   \u001b[0m   File \"/private/var/folders/gr/zmr_zbx15bqfcw7lbkw2lmgh0000gn/T/pip-install-3i7ouf26/numba_b309ae45bfa54d1480167cbbca921653/setup.py\", line 48, in _guard_py_ver\n",
      "  \u001b[31m   \u001b[0m     raise RuntimeError(msg.format(cur_py, min_py, max_py))\n",
      "  \u001b[31m   \u001b[0m RuntimeError: Cannot install on Python version 3.11.2; only versions >=3.7,<3.11 are supported.\n",
      "  \u001b[31m   \u001b[0m \u001b[31m[end of output]\u001b[0m\n",
      "  \n",
      "  \u001b[1;35mnote\u001b[0m: This error originates from a subprocess, and is likely not a problem with pip.\n",
      "\u001b[?25h\u001b[1;31merror\u001b[0m: \u001b[1mmetadata-generation-failed\u001b[0m\n",
      "\n",
      "\u001b[31m×\u001b[0m Encountered error while generating package metadata.\n",
      "\u001b[31m╰─>\u001b[0m See above for output.\n",
      "\n",
      "\u001b[1;35mnote\u001b[0m: This is an issue with the package mentioned above, not pip.\n",
      "\u001b[1;36mhint\u001b[0m: See above for details.\n",
      "Note: you may need to restart the kernel to use updated packages.\n"
     ]
    }
   ],
   "source": [
    "%pip install -r r.txt"
   ]
  },
  {
   "cell_type": "code",
   "execution_count": 4,
   "metadata": {},
   "outputs": [
    {
     "name": "stdout",
     "output_type": "stream",
     "text": [
      "                                                  name\n",
      "0               I Gotta Feeling by The Black Eyed Peas\n",
      "1                 Boom Boom Pow by The Black Eyed Peas\n",
      "2                             Best I Ever Had by Drake\n",
      "3    Knock You Down by Keri Hilson Featuring Kanye ...\n",
      "4                                LoveGame by Lady Gaga\n",
      "..                                                 ...\n",
      "295       Number One by R. Kelly Featuring Keri Hilson\n",
      "296                            Radar by Britney Spears\n",
      "297                   I Look To You by Whitney Houston\n",
      "298                Chillin by Wale Featuring Lady Gaga\n",
      "299                         Awake And Alive by Skillet\n",
      "\n",
      "[300 rows x 1 columns]\n"
     ]
    }
   ],
   "source": [
    "#statistic and research part for defining a right song \n",
    "import billboard\n",
    "from datetime import datetime\n",
    "\n",
    "# create an empty list to store the chart data\n",
    "\n",
    "track_name = []\n",
    "track_artist = []\n",
    "\n",
    "dates = ['2009-07-07', '2009-09-08', '2009-09-09']\n",
    "\n",
    "for custom_date in dates:\n",
    "\n",
    "\n",
    "#custom_date = datetime.today().strftime('%Y-%m-%d')\n",
    "#custom_date = '2007-07-07'\n",
    "\n",
    "    chart = billboard.ChartData('hot-100', date=custom_date)\n",
    "\n",
    "# iterate over the chart data and append each item to the song_list\n",
    "    for song in chart:\n",
    "    #    song_list.append(song.title)\n",
    "    #    song_list.append(song.artist)\n",
    "        track_name.append(song.title + \" by \" + song.artist)\n",
    "    \n",
    "import pandas as pd\n",
    "# create a dictionary with data\n",
    "tracklist = {'name': track_name}\n",
    "\n",
    "# create a DataFrame from the dictionary\n",
    "df = pd.DataFrame(tracklist)\n",
    "df.drop_duplicates()\n",
    "\n",
    "\n",
    "print(df)\n"
   ]
  },
  {
   "cell_type": "code",
   "execution_count": null,
   "metadata": {},
   "outputs": [],
   "source": []
  },
  {
   "cell_type": "code",
   "execution_count": 1,
   "metadata": {},
   "outputs": [
    {
     "name": "stdout",
     "output_type": "stream",
     "text": [
      "Collecting librosa\n",
      "  Using cached librosa-0.10.0.post2-py3-none-any.whl (253 kB)\n",
      "Requirement already satisfied: pandas in /opt/homebrew/lib/python3.11/site-packages (from -r r.txt (line 2)) (1.5.3)\n",
      "Requirement already satisfied: billboard.py in /opt/homebrew/lib/python3.11/site-packages (from -r r.txt (line 3)) (7.0.0)\n",
      "Collecting audioread>=2.1.9\n",
      "  Using cached audioread-3.0.0.tar.gz (377 kB)\n",
      "  Preparing metadata (setup.py) ... \u001b[?25ldone\n",
      "\u001b[?25hRequirement already satisfied: numpy!=1.22.0,!=1.22.1,!=1.22.2,>=1.20.3 in /opt/homebrew/lib/python3.11/site-packages (from librosa->-r r.txt (line 1)) (1.24.2)\n",
      "Collecting scipy>=1.2.0\n",
      "  Using cached scipy-1.10.1-cp311-cp311-macosx_12_0_arm64.whl (28.7 MB)\n",
      "Collecting scikit-learn>=0.20.0\n",
      "  Using cached scikit_learn-1.2.2-cp311-cp311-macosx_12_0_arm64.whl (8.4 MB)\n",
      "Collecting joblib>=0.14\n",
      "  Using cached joblib-1.2.0-py3-none-any.whl (297 kB)\n",
      "Requirement already satisfied: decorator>=4.3.0 in /Users/arc/Library/Python/3.11/lib/python/site-packages (from librosa->-r r.txt (line 1)) (5.1.1)\n",
      "Collecting numba>=0.51.0\n",
      "  Using cached numba-0.56.4.tar.gz (2.4 MB)\n",
      "  Preparing metadata (setup.py) ... \u001b[?25lerror\n",
      "  \u001b[1;31merror\u001b[0m: \u001b[1msubprocess-exited-with-error\u001b[0m\n",
      "  \n",
      "  \u001b[31m×\u001b[0m \u001b[32mpython setup.py egg_info\u001b[0m did not run successfully.\n",
      "  \u001b[31m│\u001b[0m exit code: \u001b[1;36m1\u001b[0m\n",
      "  \u001b[31m╰─>\u001b[0m \u001b[31m[8 lines of output]\u001b[0m\n",
      "  \u001b[31m   \u001b[0m Traceback (most recent call last):\n",
      "  \u001b[31m   \u001b[0m   File \"<string>\", line 2, in <module>\n",
      "  \u001b[31m   \u001b[0m   File \"<pip-setuptools-caller>\", line 34, in <module>\n",
      "  \u001b[31m   \u001b[0m   File \"/private/var/folders/gr/zmr_zbx15bqfcw7lbkw2lmgh0000gn/T/pip-install-dlh79vyj/numba_2d7fcc2cadd04603aad1b72e02c3c19d/setup.py\", line 51, in <module>\n",
      "  \u001b[31m   \u001b[0m     _guard_py_ver()\n",
      "  \u001b[31m   \u001b[0m   File \"/private/var/folders/gr/zmr_zbx15bqfcw7lbkw2lmgh0000gn/T/pip-install-dlh79vyj/numba_2d7fcc2cadd04603aad1b72e02c3c19d/setup.py\", line 48, in _guard_py_ver\n",
      "  \u001b[31m   \u001b[0m     raise RuntimeError(msg.format(cur_py, min_py, max_py))\n",
      "  \u001b[31m   \u001b[0m RuntimeError: Cannot install on Python version 3.11.2; only versions >=3.7,<3.11 are supported.\n",
      "  \u001b[31m   \u001b[0m \u001b[31m[end of output]\u001b[0m\n",
      "  \n",
      "  \u001b[1;35mnote\u001b[0m: This error originates from a subprocess, and is likely not a problem with pip.\n",
      "\u001b[?25h\u001b[1;31merror\u001b[0m: \u001b[1mmetadata-generation-failed\u001b[0m\n",
      "\n",
      "\u001b[31m×\u001b[0m Encountered error while generating package metadata.\n",
      "\u001b[31m╰─>\u001b[0m See above for output.\n",
      "\n",
      "\u001b[1;35mnote\u001b[0m: This is an issue with the package mentioned above, not pip.\n",
      "\u001b[1;36mhint\u001b[0m: See above for details.\n"
     ]
    },
    {
     "ename": "ModuleNotFoundError",
     "evalue": "No module named 'librosa'",
     "output_type": "error",
     "traceback": [
      "\u001b[0;31m---------------------------------------------------------------------------\u001b[0m",
      "\u001b[0;31mModuleNotFoundError\u001b[0m                       Traceback (most recent call last)",
      "Cell \u001b[0;32mIn[1], line 5\u001b[0m\n\u001b[1;32m      1\u001b[0m \u001b[39m#processing of a tracks part\u001b[39;00m\n\u001b[1;32m      3\u001b[0m get_ipython()\u001b[39m.\u001b[39msystem(\u001b[39m'\u001b[39m\u001b[39mpip install -r r.txt\u001b[39m\u001b[39m'\u001b[39m)\n\u001b[0;32m----> 5\u001b[0m \u001b[39mimport\u001b[39;00m \u001b[39mlibrosa\u001b[39;00m\n",
      "\u001b[0;31mModuleNotFoundError\u001b[0m: No module named 'librosa'"
     ]
    }
   ],
   "source": [
    "#processing of a tracks part\n",
    "\n",
    "\n",
    "\n",
    "import librosa"
   ]
  }
 ],
 "metadata": {
  "kernelspec": {
   "display_name": "Python 3",
   "language": "python",
   "name": "python3"
  },
  "language_info": {
   "codemirror_mode": {
    "name": "ipython",
    "version": 3
   },
   "file_extension": ".py",
   "mimetype": "text/x-python",
   "name": "python",
   "nbconvert_exporter": "python",
   "pygments_lexer": "ipython3",
   "version": "3.11.2"
  },
  "orig_nbformat": 4,
  "vscode": {
   "interpreter": {
    "hash": "b0fa6594d8f4cbf19f97940f81e996739fb7646882a419484c72d19e05852a7e"
   }
  }
 },
 "nbformat": 4,
 "nbformat_minor": 2
}
